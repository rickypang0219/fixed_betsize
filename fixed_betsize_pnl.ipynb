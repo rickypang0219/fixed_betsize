{
 "cells": [
  {
   "cell_type": "code",
   "execution_count": 83,
   "id": "ba1da428-fed8-4468-9280-f16bba4e335a",
   "metadata": {},
   "outputs": [],
   "source": [
    "import polars as pl\n",
    "import numpy as np \n",
    "import matplotlib.pyplot as plt \n",
    "import math"
   ]
  },
  {
   "cell_type": "code",
   "execution_count": 174,
   "id": "9bd06d3a-f9aa-4af6-b029-0b8ea0594585",
   "metadata": {},
   "outputs": [
    {
     "name": "stdout",
     "output_type": "stream",
     "text": [
      "shape: (5, 3)\n",
      "┌───────────┬──────────┬─────────┐\n",
      "│ timestamp ┆ position ┆ price   │\n",
      "│ ---       ┆ ---      ┆ ---     │\n",
      "│ i64       ┆ f64      ┆ f64     │\n",
      "╞═══════════╪══════════╪═════════╡\n",
      "│ 1         ┆ 0.5      ┆ 60000.0 │\n",
      "│ 2         ┆ 1.0      ┆ 65000.0 │\n",
      "│ 3         ┆ 1.0      ┆ 70000.0 │\n",
      "│ 4         ┆ 0.0      ┆ 71000.0 │\n",
      "│ 5         ┆ 0.0      ┆ 80000.0 │\n",
      "└───────────┴──────────┴─────────┘\n"
     ]
    }
   ],
   "source": [
    "betsize:float = 10000.0\n",
    "\n",
    "trade_hist = [\n",
    "    {\"timestamp\":1, \"position\":0.5, \"price\":60000.0},\n",
    "    {\"timestamp\":2, \"position\":1, \"price\":65000.0},\n",
    "    {\"timestamp\":3, \"position\":1, \"price\":70000.0},\n",
    "    {\"timestamp\":4, \"position\":0, \"price\":71000},\n",
    "     {\"timestamp\":5, \"position\":0, \"price\":80000},\n",
    "]\n",
    "\n",
    "test_df = pl.DataFrame(trade_hist)\n",
    "print(test_df)"
   ]
  },
  {
   "cell_type": "markdown",
   "id": "fbaa1143-e536-407d-b9bc-19658711fc89",
   "metadata": {},
   "source": [
    "# Fix Bet size Position 問題\n",
    "\n",
    "Previously, I define the PnL as \n",
    "\n",
    "$$\n",
    "PnL = \\text{cumQty} * \\text{price} - \\text{lastPosition}*\\text{betSize} - \\text{transCost}\n",
    "$$\n",
    "\n",
    "This defintion is looking at the difference between last position (in USDT) and the current cumulative holding (in USDT) with the transaction cost at particular moment. This defintion cannot capture the price changes of the asset? \n",
    "\n",
    "```\n",
    "┌───────────┬──────────┬───────┬───────────────┬───┬────────────┬─────────┬─────────┬─────────────┐\n",
    "│ timestamp ┆ position ┆ price ┆ target_amount ┆ … ┆ trans_cost ┆ PnL     ┆ cum_PnL ┆ cum_holding │\n",
    "│ ---       ┆ ---      ┆ ---   ┆ ---           ┆   ┆ ---        ┆ ---     ┆ ---     ┆ ---         │\n",
    "│ i64       ┆ f64      ┆ i64   ┆ f64           ┆   ┆ f64        ┆ f64     ┆ f64     ┆ f64         │\n",
    "╞═══════════╪══════════╪═══════╪═══════════════╪═══╪════════════╪═════════╪═════════╪═════════════╡\n",
    "│ 1         ┆ 0.5      ┆ 60000 ┆ 5000.0        ┆ … ┆ 2.988      ┆ -2.988  ┆ -2.988  ┆ 9997.012    │\n",
    "│ 2         ┆ 1.0      ┆ 65000 ┆ 10000.0       ┆ … ┆ 2.73       ┆ 392.27  ┆ 389.282 ┆ 10389.282   │\n",
    "│ 3         ┆ 1.0      ┆ 70000 ┆ 10000.0       ┆ … ┆ 0.462      ┆ 709.538 ┆ 1098.82 ┆ 11098.82    │\n",
    "│ 4         ┆ 1.0      ┆ 70050 ┆ 10000.0       ┆ … ┆ 0.0        ┆ -52.9   ┆ 1045.92 ┆ 11045.92    │\n",
    "└───────────┴──────────┴───────┴───────────────┴───┴────────────┴─────────┴─────────┴─────────────┘\n",
    "```\n",
    "\n",
    "Look at the above table, at time 4 the price of the asset increases to 70050 but the PnL is negative. The reason is that the PnL I refer as the price deviation from target amount and cumulative holding in USDT. Therfore, 70050 * 0.142 =9,947.1 < 10000, resulting in neagtive PnL.\n",
    "\n",
    "\n",
    "# Update \n",
    "\n",
    "$$\n",
    "PnL = \\text{cumQty} * (\\text{currPrice} - \\text{lastPrice}) - \\text{transCost}\n",
    "$$\n"
   ]
  },
  {
   "cell_type": "code",
   "execution_count": 175,
   "id": "e0f4ce40-c3e6-4252-b9a9-aaba67ca3c65",
   "metadata": {},
   "outputs": [],
   "source": [
    "test_df = test_df.with_columns(\n",
    "    (\n",
    "        pl.col(\"price\").pct_change().fill_null(0)\n",
    "    ).alias(\"price_chg\")\n",
    ")\n",
    "\n",
    "test_df = test_df.with_columns(\n",
    "    (pl.col(\"position\") * betsize).alias(\"target_amount\")\n",
    ")\n",
    "\n",
    "\n",
    "\n",
    "test_df = test_df.with_columns(\n",
    "    (((pl.col(\"target_amount\") / pl.col(\"price\") * 1000).floor()) / 1000.0).alias(\"target_qty\")\n",
    ")\n",
    "\n",
    "test_df = test_df.with_columns(\n",
    "    (\n",
    "        pl.col(\"target_qty\") * pl.col(\"price\")\n",
    "    ).alias(\"rounded_amount\")\n",
    ")\n",
    "\n",
    "\n",
    "\n",
    "\n",
    "test_df = test_df.with_columns(\n",
    "    (\n",
    "        pl.col(\"target_qty\") - pl.col(\"target_qty\").shift(1).fill_null(0)\n",
    "    ).alias(\"delta_qty\")\n",
    ")\n",
    "\n",
    "\n",
    "\n",
    "test_df = test_df.with_columns(\n",
    "    (\n",
    "        pl.col(\"target_qty\").shift(1).fill_null(0)\n",
    "    ).alias(\"cum_qty\")\n",
    ")\n",
    "\n",
    "\n",
    "\n",
    "\n",
    "\n",
    "\n",
    "test_df = test_df.with_columns(\n",
    "    (\n",
    "        pl.col(\"delta_qty\").abs()*pl.col(\"price\")*0.06/100\n",
    "    ).alias(\"trans_cost\")\n",
    ")\n",
    "\n",
    "\n",
    "test_df = test_df.with_columns(\n",
    "    (\n",
    "        # (pl.col(\"target_qty\").shift(1) * pl.col(\"price\").shift(1)) * pl.col(\"price_chg\")\n",
    "        (\n",
    "            pl.col(\"target_qty\").shift(1) * \n",
    "            (pl.col(\"price\")- pl.col(\"price\").shift(1) )\n",
    "        ).fill_null(0)\n",
    "        - pl.col(\"trans_cost\")\n",
    "    ).alias(\"PnL(test)\")\n",
    ")\n",
    "\n",
    "test_df = test_df.with_columns(\n",
    "    (\n",
    "        pl.col(\"target_qty\").shift(1).fill_null(0) * pl.col(\"price\") \n",
    "        # - pl.col(\"position\").shift(1).fill_null(0) * betsize \n",
    "        -pl.col(\"rounded_amount\").shift(1).fill_null(0)\n",
    "        - pl.col(\"trans_cost\")\n",
    "    ).alias(\"PnL\")\n",
    ")\n",
    "\n",
    "test_df = test_df.with_columns(\n",
    "    (\n",
    "        pl.col(\"PnL\").cum_sum()\n",
    "    ).alias(\"cum_PnL\")\n",
    ")\n",
    "\n",
    "test_df = test_df.with_columns(\n",
    "    (\n",
    "        pl.col(\"cum_PnL\") + betsize\n",
    "    ).alias(\"cum_holding\")\n",
    ")"
   ]
  },
  {
   "cell_type": "code",
   "execution_count": 176,
   "id": "d497a338-760f-41bf-817e-b6aa2ad1e00a",
   "metadata": {},
   "outputs": [
    {
     "data": {
      "text/html": [
       "<div><style>\n",
       ".dataframe > thead > tr,\n",
       ".dataframe > tbody > tr {\n",
       "  text-align: right;\n",
       "  white-space: pre-wrap;\n",
       "}\n",
       "</style>\n",
       "<small>shape: (5, 14)</small><table border=\"1\" class=\"dataframe\"><thead><tr><th>timestamp</th><th>position</th><th>price</th><th>price_chg</th><th>target_amount</th><th>target_qty</th><th>rounded_amount</th><th>delta_qty</th><th>cum_qty</th><th>trans_cost</th><th>PnL(test)</th><th>PnL</th><th>cum_PnL</th><th>cum_holding</th></tr><tr><td>i64</td><td>f64</td><td>f64</td><td>f64</td><td>f64</td><td>f64</td><td>f64</td><td>f64</td><td>f64</td><td>f64</td><td>f64</td><td>f64</td><td>f64</td><td>f64</td></tr></thead><tbody><tr><td>1</td><td>0.5</td><td>60000.0</td><td>0.0</td><td>5000.0</td><td>0.083</td><td>4980.0</td><td>0.083</td><td>0.0</td><td>2.988</td><td>-2.988</td><td>-2.988</td><td>-2.988</td><td>9997.012</td></tr><tr><td>2</td><td>1.0</td><td>65000.0</td><td>0.083333</td><td>10000.0</td><td>0.153</td><td>9945.0</td><td>0.07</td><td>0.083</td><td>2.73</td><td>412.27</td><td>412.27</td><td>409.282</td><td>10409.282</td></tr><tr><td>3</td><td>1.0</td><td>70000.0</td><td>0.076923</td><td>10000.0</td><td>0.142</td><td>9940.0</td><td>-0.011</td><td>0.153</td><td>0.462</td><td>764.538</td><td>764.538</td><td>1173.82</td><td>11173.82</td></tr><tr><td>4</td><td>0.0</td><td>71000.0</td><td>0.014286</td><td>0.0</td><td>0.0</td><td>0.0</td><td>-0.142</td><td>0.142</td><td>6.0492</td><td>135.9508</td><td>135.9508</td><td>1309.7708</td><td>11309.7708</td></tr><tr><td>5</td><td>0.0</td><td>80000.0</td><td>0.126761</td><td>0.0</td><td>0.0</td><td>0.0</td><td>0.0</td><td>0.0</td><td>0.0</td><td>0.0</td><td>0.0</td><td>1309.7708</td><td>11309.7708</td></tr></tbody></table></div>"
      ],
      "text/plain": [
       "shape: (5, 14)\n",
       "┌───────────┬──────────┬─────────┬───────────┬───┬───────────┬──────────┬───────────┬─────────────┐\n",
       "│ timestamp ┆ position ┆ price   ┆ price_chg ┆ … ┆ PnL(test) ┆ PnL      ┆ cum_PnL   ┆ cum_holding │\n",
       "│ ---       ┆ ---      ┆ ---     ┆ ---       ┆   ┆ ---       ┆ ---      ┆ ---       ┆ ---         │\n",
       "│ i64       ┆ f64      ┆ f64     ┆ f64       ┆   ┆ f64       ┆ f64      ┆ f64       ┆ f64         │\n",
       "╞═══════════╪══════════╪═════════╪═══════════╪═══╪═══════════╪══════════╪═══════════╪═════════════╡\n",
       "│ 1         ┆ 0.5      ┆ 60000.0 ┆ 0.0       ┆ … ┆ -2.988    ┆ -2.988   ┆ -2.988    ┆ 9997.012    │\n",
       "│ 2         ┆ 1.0      ┆ 65000.0 ┆ 0.083333  ┆ … ┆ 412.27    ┆ 412.27   ┆ 409.282   ┆ 10409.282   │\n",
       "│ 3         ┆ 1.0      ┆ 70000.0 ┆ 0.076923  ┆ … ┆ 764.538   ┆ 764.538  ┆ 1173.82   ┆ 11173.82    │\n",
       "│ 4         ┆ 0.0      ┆ 71000.0 ┆ 0.014286  ┆ … ┆ 135.9508  ┆ 135.9508 ┆ 1309.7708 ┆ 11309.7708  │\n",
       "│ 5         ┆ 0.0      ┆ 80000.0 ┆ 0.126761  ┆ … ┆ 0.0       ┆ 0.0      ┆ 1309.7708 ┆ 11309.7708  │\n",
       "└───────────┴──────────┴─────────┴───────────┴───┴───────────┴──────────┴───────────┴─────────────┘"
      ]
     },
     "execution_count": 176,
     "metadata": {},
     "output_type": "execute_result"
    }
   ],
   "source": [
    "test_df"
   ]
  },
  {
   "cell_type": "code",
   "execution_count": 177,
   "id": "c968e068-4a77-4448-bd96-bee8c6e9cbb8",
   "metadata": {},
   "outputs": [
    {
     "data": {
      "text/plain": [
       "55.000000000000114"
      ]
     },
     "execution_count": 177,
     "metadata": {},
     "output_type": "execute_result"
    }
   ],
   "source": [
    "0.153 * (70000 - 65000) - 0.142*(5000)"
   ]
  },
  {
   "cell_type": "code",
   "execution_count": 178,
   "id": "ff6a93ec-e382-44d1-8c33-3d134b7d923f",
   "metadata": {},
   "outputs": [
    {
     "data": {
      "text/plain": [
       "765.0"
      ]
     },
     "execution_count": 178,
     "metadata": {},
     "output_type": "execute_result"
    }
   ],
   "source": [
    "0.153 * (70000 - 65000) "
   ]
  },
  {
   "cell_type": "code",
   "execution_count": 179,
   "id": "185eddd8-f7c1-4d5f-aa57-2750c963ded6",
   "metadata": {},
   "outputs": [
    {
     "data": {
      "text/plain": [
       "54.967"
      ]
     },
     "execution_count": 179,
     "metadata": {},
     "output_type": "execute_result"
    }
   ],
   "source": [
    " 0.011 * (5000) * ( 1- 0.06/100)"
   ]
  },
  {
   "cell_type": "code",
   "execution_count": null,
   "id": "6355813c-9850-4fd4-8b4a-dc1acd616747",
   "metadata": {},
   "outputs": [],
   "source": []
  }
 ],
 "metadata": {
  "kernelspec": {
   "display_name": "Python 3 (ipykernel)",
   "language": "python",
   "name": "python3"
  },
  "language_info": {
   "codemirror_mode": {
    "name": "ipython",
    "version": 3
   },
   "file_extension": ".py",
   "mimetype": "text/x-python",
   "name": "python",
   "nbconvert_exporter": "python",
   "pygments_lexer": "ipython3",
   "version": "3.12.7"
  }
 },
 "nbformat": 4,
 "nbformat_minor": 5
}
